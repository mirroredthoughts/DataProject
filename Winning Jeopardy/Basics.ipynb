{
 "cells": [
  {
   "cell_type": "code",
   "execution_count": 196,
   "metadata": {
    "collapsed": false
   },
   "outputs": [
    {
     "name": "stdout",
     "output_type": "stream",
     "text": [
      "   Show Number    Air Date      Round                         Category  Value  \\\n",
      "0         4680  2004-12-31  Jeopardy!                          HISTORY   $200   \n",
      "1         4680  2004-12-31  Jeopardy!  ESPN's TOP 10 ALL-TIME ATHLETES   $200   \n",
      "2         4680  2004-12-31  Jeopardy!      EVERYBODY TALKS ABOUT IT...   $200   \n",
      "3         4680  2004-12-31  Jeopardy!                 THE COMPANY LINE   $200   \n",
      "4         4680  2004-12-31  Jeopardy!              EPITAPHS & TRIBUTES   $200   \n",
      "\n",
      "                                            Question      Answer  \n",
      "0  For the last 8 years of his life, Galileo was ...  Copernicus  \n",
      "1  No. 2: 1912 Olympian; football star at Carlisl...  Jim Thorpe  \n",
      "2  The city of Yuma in this state has a record av...     Arizona  \n",
      "3  In 1963, live on \"The Art Linkletter Show\", th...  McDonald's  \n",
      "4  Signer of the Dec. of Indep., framer of the Co...  John Adams  \n",
      "Index(['Show Number', ' Air Date', ' Round', ' Category', ' Value',\n",
      "       ' Question', ' Answer'],\n",
      "      dtype='object')\n"
     ]
    }
   ],
   "source": [
    "import pandas as pd\n",
    "from scipy.stats import chisquare\n",
    "import numpy as np\n",
    "\n",
    "jeopardy = pd.read_csv(\"jeopardy.csv\")\n",
    "print(jeopardy.head(5))\n",
    "\n",
    "print(jeopardy.columns)\n",
    "\n"
   ]
  },
  {
   "cell_type": "code",
   "execution_count": 197,
   "metadata": {
    "collapsed": true
   },
   "outputs": [],
   "source": [
    "jeopardy.columns=['Show Number', 'Air Date', 'Round', 'Category', 'Value',\n",
    "       'Question', 'Answer']"
   ]
  },
  {
   "cell_type": "code",
   "execution_count": 198,
   "metadata": {
    "collapsed": true
   },
   "outputs": [],
   "source": [
    "import re\n",
    "\n",
    "def normString(inp):\n",
    "    inp = inp.lower()\n",
    "    inp = re.sub(\"[^A-Za-z0-9\\s]\", \"\", inp)\n",
    "    return inp\n",
    "\n",
    "def normValues(inp):\n",
    "    inp = re.sub(\"[^A-Za-z0-9\\s]\", \"\", inp)\n",
    "    try:\n",
    "        inp = int(inp)\n",
    "    except Exception:\n",
    "        inp =0\n",
    "    return inp"
   ]
  },
  {
   "cell_type": "code",
   "execution_count": 199,
   "metadata": {
    "collapsed": false
   },
   "outputs": [],
   "source": [
    "jeopardy[\"clean_question\"] = jeopardy[\"Question\"].apply(normString)\n",
    "jeopardy[\"clean_answer\"] = jeopardy[\"Answer\"].apply(normString)\n",
    "jeopardy[\"clean_value\"] = jeopardy[\"Value\"].apply(normValues)"
   ]
  },
  {
   "cell_type": "code",
   "execution_count": 200,
   "metadata": {
    "collapsed": true
   },
   "outputs": [],
   "source": [
    "jeopardy[\"Air Date\"]=pd.to_datetime(jeopardy[\"Air Date\"])"
   ]
  },
  {
   "cell_type": "code",
   "execution_count": 201,
   "metadata": {
    "collapsed": true
   },
   "outputs": [],
   "source": [
    "def count(row):\n",
    "    split_answer = row[\"clean_answer\"].split(\" \")\n",
    "    split_question = row[\"clean_question\"].split(\" \")\n",
    "    match_count =0\n",
    "    if \"the\" in split_answer:\n",
    "        split_answer.remove(\"the\")\n",
    "    if len(split_answer) == 0:\n",
    "        return 0\n",
    "    \n",
    "    for i in split_answer:\n",
    "        if i in split_question:\n",
    "            match_count += 1\n",
    "        return match_count/len(split_answer)"
   ]
  },
  {
   "cell_type": "code",
   "execution_count": 202,
   "metadata": {
    "collapsed": false
   },
   "outputs": [
    {
     "name": "stdout",
     "output_type": "stream",
     "text": [
      "0        0.0\n",
      "1        0.0\n",
      "2        0.0\n",
      "3        0.0\n",
      "4        0.0\n",
      "5        0.0\n",
      "6        0.0\n",
      "7        0.0\n",
      "8        0.0\n",
      "9        0.0\n",
      "10       0.0\n",
      "11       0.0\n",
      "12       0.0\n",
      "13       0.0\n",
      "14       0.0\n",
      "15       0.0\n",
      "16       0.0\n",
      "17       0.0\n",
      "18       0.0\n",
      "19       0.0\n",
      "20       0.0\n",
      "21       0.0\n",
      "22       0.0\n",
      "23       0.0\n",
      "24       0.0\n",
      "25       0.0\n",
      "26       0.0\n",
      "27       0.0\n",
      "28       0.0\n",
      "29       0.0\n",
      "        ... \n",
      "19969    0.0\n",
      "19970    0.0\n",
      "19971    0.0\n",
      "19972    0.0\n",
      "19973    0.0\n",
      "19974    0.0\n",
      "19975    0.0\n",
      "19976    0.0\n",
      "19977    0.0\n",
      "19978    0.0\n",
      "19979    0.0\n",
      "19980    0.5\n",
      "19981    0.0\n",
      "19982    0.0\n",
      "19983    0.0\n",
      "19984    0.0\n",
      "19985    0.0\n",
      "19986    0.0\n",
      "19987    0.0\n",
      "19988    0.0\n",
      "19989    0.0\n",
      "19990    0.0\n",
      "19991    0.0\n",
      "19992    0.0\n",
      "19993    0.0\n",
      "19994    1.0\n",
      "19995    0.0\n",
      "19996    0.0\n",
      "19997    0.0\n",
      "19998    0.0\n",
      "Name: answer_in_question, dtype: float64\n"
     ]
    }
   ],
   "source": [
    "jeopardy[\"answer_in_question\"] = jeopardy.apply(count,axis=1)\n",
    "print(jeopardy[\"answer_in_question\"])"
   ]
  },
  {
   "cell_type": "code",
   "execution_count": 203,
   "metadata": {
    "collapsed": false
   },
   "outputs": [
    {
     "name": "stdout",
     "output_type": "stream",
     "text": [
      "0.0296856893849\n"
     ]
    }
   ],
   "source": [
    "print(jeopardy[\"answer_in_question\"].mean())"
   ]
  },
  {
   "cell_type": "code",
   "execution_count": 204,
   "metadata": {
    "collapsed": false
   },
   "outputs": [
    {
     "data": {
      "text/plain": [
       "0    0.0\n",
       "1    0.0\n",
       "2    0.0\n",
       "3    0.0\n",
       "4    0.0\n",
       "Name: question_overlap, dtype: float64"
      ]
     },
     "execution_count": 204,
     "metadata": {},
     "output_type": "execute_result"
    }
   ],
   "source": [
    "question_overlap=[]\n",
    "terms_used = []\n",
    "\n",
    "for i, row in jeopardy.iterrows():\n",
    "    split_question = row['clean_question'].split(' ')\n",
    "    split_question = [c for c in split_question if len(c) > 5]\n",
    "    match_count = 0\n",
    "    for c in split_question:\n",
    "        if c in terms_used:\n",
    "            match_count += 1\n",
    "        else: \n",
    "            terms_used.append(c)\n",
    "    if len(split_question) > 0:\n",
    "        question_overlap.append(match_count / len(split_question))\n",
    "    else:\n",
    "        question_overlap.append(0)\n",
    "jeopardy['question_overlap'] = question_overlap\n",
    "jeopardy['question_overlap'].head()"
   ]
  },
  {
   "cell_type": "code",
   "execution_count": 205,
   "metadata": {
    "collapsed": false
   },
   "outputs": [
    {
     "name": "stdout",
     "output_type": "stream",
     "text": [
      "0.692596005734\n"
     ]
    }
   ],
   "source": [
    "print(jeopardy[\"question_overlap\"].mean())"
   ]
  },
  {
   "cell_type": "code",
   "execution_count": 206,
   "metadata": {
    "collapsed": true
   },
   "outputs": [],
   "source": [
    "def cleanValue(row):\n",
    "    value = 0\n",
    "    if row['clean_value'] > 800:\n",
    "        value = 1\n",
    "    else:\n",
    "        value = 0\n",
    "    return(value)"
   ]
  },
  {
   "cell_type": "code",
   "execution_count": 207,
   "metadata": {
    "collapsed": true
   },
   "outputs": [],
   "source": [
    "jeopardy[\"high_value\"]= jeopardy.apply(cleanValue,axis=1)"
   ]
  },
  {
   "cell_type": "code",
   "execution_count": 208,
   "metadata": {
    "collapsed": false
   },
   "outputs": [
    {
     "data": {
      "text/plain": [
       "[(1, 6), (3, 2), (0, 1), (11, 14), (0, 2)]"
      ]
     },
     "execution_count": 208,
     "metadata": {},
     "output_type": "execute_result"
    }
   ],
   "source": [
    "def countValue(term):\n",
    "    low_count = 0\n",
    "    high_count = 0\n",
    "    for i, row in jeopardy.iterrows():\n",
    "        if term in row[\"clean_question\"].split(\" \"):\n",
    "            if row[\"high_value\"] == 1:\n",
    "                high_count += 1\n",
    "            else:\n",
    "                low_count += 1\n",
    "    return high_count, low_count\n",
    "\n",
    "comparison_terms = list(terms_used)[:5]\n",
    "observed_expected = []\n",
    "for term in comparison_terms:\n",
    "    observed_expected.append(countValue(term))\n",
    "\n",
    "observed_expected"
   ]
  },
  {
   "cell_type": "code",
   "execution_count": 209,
   "metadata": {
    "collapsed": false
   },
   "outputs": [
    {
     "name": "stdout",
     "output_type": "stream",
     "text": [
      "[Power_divergenceResult(statistic=0.70835065396621411, pvalue=0.39999189913636146), Power_divergenceResult(statistic=2.3995960878537224, pvalue=0.12136658322360773), Power_divergenceResult(statistic=0.40196284612688399, pvalue=0.52607729857054686), Power_divergenceResult(statistic=2.8723025608618364, pvalue=0.09011585768849395), Power_divergenceResult(statistic=0.80392569225376798, pvalue=0.36992223780795708)]\n"
     ]
    }
   ],
   "source": [
    "high_value_count = jeopardy[jeopardy[\"high_value\"] == 1].shape[0]\n",
    "low_value_count = jeopardy[jeopardy[\"high_value\"] == 0].shape[0]\n",
    "\n",
    "chi_squared = []\n",
    "for i in observed_expected:\n",
    "    total = sum(i)\n",
    "    total_prop = total / jeopardy.shape[0]\n",
    "    high_value_exp = total_prop * high_value_count\n",
    "    low_value_exp = total_prop * low_value_count\n",
    "    \n",
    "    observed = np.array([i[0], i[1]])\n",
    "    expected = np.array([high_value_exp, low_value_exp])\n",
    "    chi_squared.append(chisquare(observed, expected))\n",
    "\n",
    "print(chi_squared)"
   ]
  }
 ],
 "metadata": {
  "kernelspec": {
   "display_name": "Python 3",
   "language": "python",
   "name": "python3"
  },
  "language_info": {
   "codemirror_mode": {
    "name": "ipython",
    "version": 3
   },
   "file_extension": ".py",
   "mimetype": "text/x-python",
   "name": "python",
   "nbconvert_exporter": "python",
   "pygments_lexer": "ipython3",
   "version": "3.4.3"
  }
 },
 "nbformat": 4,
 "nbformat_minor": 0
}
